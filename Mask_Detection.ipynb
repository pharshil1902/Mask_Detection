{
 "cells": [
  {
   "cell_type": "code",
   "execution_count": 1,
   "metadata": {},
   "outputs": [],
   "source": [
    "import tensorflow as tf\n",
    "from sklearn.model_selection import train_test_split\n",
    "from tensorflow.keras.models import Sequential\n",
    "from tensorflow.keras.layers import Dense, Dropout, Activation, Flatten\n",
    "from tensorflow.keras.layers import Conv2D, MaxPooling2D\n",
    "from tensorflow.keras.callbacks import ModelCheckpoint"
   ]
  },
  {
   "cell_type": "code",
   "execution_count": 2,
   "metadata": {},
   "outputs": [],
   "source": [
    "import cv2,os\n",
    "import tkinter as tk\n",
    "from tkinter import filedialog"
   ]
  },
  {
   "cell_type": "code",
   "execution_count": 3,
   "metadata": {},
   "outputs": [],
   "source": [
    "from tensorflow.keras.models import load_model\n",
    "import numpy as np"
   ]
  },
  {
   "cell_type": "markdown",
   "metadata": {},
   "source": [
    "### Data preprocessing"
   ]
  },
  {
   "cell_type": "code",
   "execution_count": 4,
   "metadata": {},
   "outputs": [],
   "source": [
    "\n",
    "\n",
    "dataset = \"dataset\"\n",
    "labels_dict = {\"with mask\":0,\"without mask\":1}\n",
    "data = []\n",
    "target = []\n",
    "categories = ['with mask','without mask']\n",
    "for category in categories:\n",
    "    folder = os.path.join(dataset,category)\n",
    "    img_dir = os.listdir(folder)\n",
    "\n",
    "    for image in img_dir:    \n",
    "        im = os.path.join(folder,image)\n",
    "        img = cv2.imread(im)\n",
    "        img = cv2.cvtColor(img,cv2.COLOR_BGR2RGB)\n",
    "        resized = cv2.resize(img,(100,100))\n",
    "        data.append(resized)\n",
    "        target.append(labels_dict[category])\n",
    "\n",
    "normalized_data = np.array(data)/255.0\n",
    "reshaped_data = np.reshape(normalized_data,(normalized_data.shape[0],100,100,3))\n",
    "target = np.array(target)\n",
    "\n",
    "from tensorflow.keras.utils import to_categorical\n",
    "\n",
    "categorical_target = to_categorical(target)\n",
    "\n",
    "np.save(\"data\",reshaped_data)\n",
    "np.save(\"target\",categorical_target)\n",
    "\n",
    "        "
   ]
  },
  {
   "cell_type": "markdown",
   "metadata": {},
   "source": [
    "### Model training"
   ]
  },
  {
   "cell_type": "code",
   "execution_count": 13,
   "metadata": {},
   "outputs": [
    {
     "name": "stdout",
     "output_type": "stream",
     "text": [
      "Epoch 1/20\n",
      "31/31 [==============================] - ETA: 0s - loss: 0.5022 - accuracy: 0.7485WARNING:tensorflow:From D:\\Anaconda\\lib\\site-packages\\tensorflow\\python\\ops\\resource_variable_ops.py:1817: calling BaseResourceVariable.__init__ (from tensorflow.python.ops.resource_variable_ops) with constraint is deprecated and will be removed in a future version.\n",
      "Instructions for updating:\n",
      "If using Keras pass *_constraint arguments to layers.\n",
      "INFO:tensorflow:Assets written to: model-ready.model\\assets\n",
      "31/31 [==============================] - 50s 2s/step - loss: 0.5022 - accuracy: 0.7485 - val_loss: 0.1798 - val_accuracy: 0.9637\n",
      "Epoch 2/20\n",
      "31/31 [==============================] - ETA: 0s - loss: 0.1728 - accuracy: 0.9313INFO:tensorflow:Assets written to: model-ready.model\\assets\n",
      "31/31 [==============================] - 50s 2s/step - loss: 0.1728 - accuracy: 0.9313 - val_loss: 0.1537 - val_accuracy: 0.9516\n",
      "Epoch 3/20\n",
      "31/31 [==============================] - ETA: 0s - loss: 0.1289 - accuracy: 0.9525INFO:tensorflow:Assets written to: model-ready.model\\assets\n",
      "31/31 [==============================] - 58s 2s/step - loss: 0.1289 - accuracy: 0.9525 - val_loss: 0.1413 - val_accuracy: 0.9556\n",
      "Epoch 4/20\n",
      "31/31 [==============================] - ETA: 0s - loss: 0.1004 - accuracy: 0.9636INFO:tensorflow:Assets written to: model-ready.model\\assets\n",
      "31/31 [==============================] - 61s 2s/step - loss: 0.1004 - accuracy: 0.9636 - val_loss: 0.0804 - val_accuracy: 0.9798\n",
      "Epoch 5/20\n",
      "31/31 [==============================] - 51s 2s/step - loss: 0.0690 - accuracy: 0.9768 - val_loss: 0.0822 - val_accuracy: 0.9839\n",
      "Epoch 6/20\n",
      "31/31 [==============================] - ETA: 0s - loss: 0.0598 - accuracy: 0.9737INFO:tensorflow:Assets written to: model-ready.model\\assets\n",
      "31/31 [==============================] - 51s 2s/step - loss: 0.0598 - accuracy: 0.9737 - val_loss: 0.0678 - val_accuracy: 0.9798\n",
      "Epoch 7/20\n",
      "31/31 [==============================] - 49s 2s/step - loss: 0.0455 - accuracy: 0.9838 - val_loss: 0.0689 - val_accuracy: 0.9798\n",
      "Epoch 8/20\n",
      "31/31 [==============================] - 49s 2s/step - loss: 0.0454 - accuracy: 0.9848 - val_loss: 0.0831 - val_accuracy: 0.9879\n",
      "Epoch 9/20\n",
      "31/31 [==============================] - 49s 2s/step - loss: 0.0423 - accuracy: 0.9838 - val_loss: 0.0867 - val_accuracy: 0.9839\n",
      "Epoch 10/20\n",
      "31/31 [==============================] - 53s 2s/step - loss: 0.0415 - accuracy: 0.9869 - val_loss: 0.0946 - val_accuracy: 0.9758\n",
      "Epoch 11/20\n",
      "31/31 [==============================] - 39s 1s/step - loss: 0.0361 - accuracy: 0.9859 - val_loss: 0.1027 - val_accuracy: 0.9798\n",
      "Epoch 12/20\n",
      "31/31 [==============================] - 29s 932ms/step - loss: 0.0119 - accuracy: 0.9970 - val_loss: 0.0983 - val_accuracy: 0.9798\n",
      "Epoch 13/20\n",
      "31/31 [==============================] - 29s 934ms/step - loss: 0.0184 - accuracy: 0.9960 - val_loss: 0.0789 - val_accuracy: 0.9798\n",
      "Epoch 14/20\n",
      "31/31 [==============================] - 29s 932ms/step - loss: 0.0172 - accuracy: 0.9949 - val_loss: 0.0850 - val_accuracy: 0.9839\n",
      "Epoch 15/20\n",
      "31/31 [==============================] - 29s 930ms/step - loss: 0.0185 - accuracy: 0.9949 - val_loss: 0.0868 - val_accuracy: 0.9798\n",
      "Epoch 16/20\n",
      "31/31 [==============================] - 30s 970ms/step - loss: 0.0381 - accuracy: 0.9869 - val_loss: 0.0851 - val_accuracy: 0.9839\n",
      "Epoch 17/20\n",
      "31/31 [==============================] - 29s 930ms/step - loss: 0.0139 - accuracy: 0.9960 - val_loss: 0.0888 - val_accuracy: 0.9879\n",
      "Epoch 18/20\n",
      "31/31 [==============================] - 29s 927ms/step - loss: 0.0114 - accuracy: 0.9949 - val_loss: 0.0846 - val_accuracy: 0.9879\n",
      "Epoch 19/20\n",
      "31/31 [==============================] - 29s 938ms/step - loss: 0.0192 - accuracy: 0.9949 - val_loss: 0.1514 - val_accuracy: 0.9839\n",
      "Epoch 20/20\n",
      "31/31 [==============================] - 37s 1s/step - loss: 0.0454 - accuracy: 0.9889 - val_loss: 0.2064 - val_accuracy: 0.9718\n"
     ]
    },
    {
     "data": {
      "text/plain": [
       "<tensorflow.python.keras.callbacks.History at 0x1d627849648>"
      ]
     },
     "execution_count": 13,
     "metadata": {},
     "output_type": "execute_result"
    }
   ],
   "source": [
    "data = np.load(\"data.npy\")\n",
    "target = np.load(\"target.npy\")\n",
    "\n",
    "model = Sequential()\n",
    "\n",
    "# *** layers ***\n",
    "\n",
    "model.add(Conv2D(200,(3,3), input_shape = data.shape[1:] )) ## CNN Layer \n",
    "model.add(Activation(\"relu\"))                               ## \"RELU\" Activation Function\n",
    "model.add(MaxPooling2D(pool_size=(2,2)))                    ## MaxPooling layers\n",
    "\n",
    "model.add(Conv2D(100,(3,3))) ## CNN Layer \n",
    "model.add(Activation(\"relu\"))                               ## \"RELU\" Activation Function\n",
    "model.add(MaxPooling2D(pool_size=(2,2)))                    ## MaxPooling layers\n",
    "\n",
    "model.add(Flatten()) ## flattening \n",
    "model.add(Dropout(0.5)) ## To reduce Overfitting\n",
    "\n",
    "model.add(Dense(50,activation=\"relu\")) \n",
    "model.add(Dense(2,activation=\"softmax\")) ## FINAL LAYER\n",
    "\n",
    "model.compile(loss='categorical_crossentropy',optimizer = 'adam',metrics=['accuracy'])\n",
    "\n",
    "train_X,test_X,train_y,test_y = train_test_split(data,target,test_size=0.1)\n",
    "\n",
    "checkpoint = ModelCheckpoint('model-ready.model',monitor='val_loss', verbose=0, save_best_only=True, mode='auto')\n",
    "\n",
    "model.fit(train_X,train_y,epochs=20,callbacks=[checkpoint],validation_split=0.2)"
   ]
  },
  {
   "cell_type": "code",
   "execution_count": 14,
   "metadata": {},
   "outputs": [
    {
     "name": "stdout",
     "output_type": "stream",
     "text": [
      "5/5 [==============================] - 1s 160ms/step - loss: 0.0930 - accuracy: 0.9710\n",
      "[0.09304454922676086, 0.9710144996643066]\n"
     ]
    }
   ],
   "source": [
    "print(model.evaluate(test_X,test_y))"
   ]
  },
  {
   "cell_type": "markdown",
   "metadata": {},
   "source": [
    "### Computer Vision and File Upload"
   ]
  },
  {
   "cell_type": "code",
   "execution_count": 25,
   "metadata": {},
   "outputs": [
    {
     "name": "stdout",
     "output_type": "stream",
     "text": [
      "[[0.02979906 0.97020096]]\n",
      "1\n"
     ]
    }
   ],
   "source": [
    "model = load_model(\"model-ready.model\")\n",
    "root = tk.Tk()\n",
    "root.withdraw()\n",
    "\n",
    "upload = filedialog.askopenfilename()\n",
    "\n",
    "\n",
    "labels = {0:\"Mask\",1:\"No Mask\"}\n",
    "\n",
    "color_dict = {0: (0,255,0),1:(0,0,255)}\n",
    "\n",
    "img = cv2.imread(upload)\n",
    "\n",
    "\n",
    "rgbimg = cv2.cvtColor(img,cv2.COLOR_BGR2RGB)\n",
    "\n",
    "resized = cv2.resize(rgbimg,(100,100))\n",
    "normalize = resized/255.0\n",
    "normalize.shape\n",
    "reshaped = np.reshape(normalize,(1,100,100,3))\n",
    "\n",
    "result = model.predict(reshaped)\n",
    "print(result)\n",
    "label = np.argmax(result,axis=1)[0]\n",
    "print(label)\n",
    "\n",
    "image = cv2.rectangle(img, (0,0), (150,80), color_dict[label], 2)\n",
    "image = cv2.putText(image,labels[label],(30,50),cv2.FONT_HERSHEY_SIMPLEX,0.8,color_dict[label])\n",
    "cv2.imshow(\"image\",image)\n",
    "    \n",
    "cv2.waitKey(0)\n",
    "cv2.destroyAllWindows()"
   ]
  },
  {
   "cell_type": "code",
   "execution_count": 14,
   "metadata": {},
   "outputs": [],
   "source": [
    "\n",
    "\n"
   ]
  },
  {
   "cell_type": "code",
   "execution_count": null,
   "metadata": {},
   "outputs": [],
   "source": []
  }
 ],
 "metadata": {
  "kernelspec": {
   "display_name": "Python 3",
   "language": "python",
   "name": "python3"
  },
  "language_info": {
   "codemirror_mode": {
    "name": "ipython",
    "version": 3
   },
   "file_extension": ".py",
   "mimetype": "text/x-python",
   "name": "python",
   "nbconvert_exporter": "python",
   "pygments_lexer": "ipython3",
   "version": "3.7.6"
  }
 },
 "nbformat": 4,
 "nbformat_minor": 4
}
